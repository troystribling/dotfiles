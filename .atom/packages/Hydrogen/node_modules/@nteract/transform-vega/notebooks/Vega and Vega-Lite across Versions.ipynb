{
  "cells": [
    {
      "cell_type": "code",
      "source": [
        "from vega_datasets import data\n",
        "from IPython.display import display\n",
        "\n",
        "spec = {\n",
        "  \"data\": {\"url\": data.movies.url},\n",
        "  \"mark\": \"bar\",\n",
        "  \"encoding\": {\n",
        "    \"x\": {\"bin\": {\"maxbins\": 10}, \"field\": \"IMDB_Rating\", \"type\": \"quantitative\"},\n",
        "    \"y\": {\"aggregate\": \"count\", \"field\": \"*\", \"type\": \"quantitative\"},\n",
        "  }\n",
        "}\n",
        "\n",
        "for version in (1, 2, 3):\n",
        "    display({f'application/vnd.vegalite.v{version}+json': spec}, raw=True)\n"
      ],
      "outputs": [
        {
          "output_type": "display_data",
          "data": {
            "application/vnd.vegalite.v1+json": {
              "data": {
                "url": "https://vega.github.io/vega-datasets/data/movies.json"
              },
              "mark": "bar",
              "encoding": {
                "x": {
                  "bin": {
                    "maxbins": 10
                  },
                  "field": "IMDB_Rating",
                  "type": "quantitative"
                },
                "y": {
                  "aggregate": "count",
                  "field": "*",
                  "type": "quantitative"
                }
              }
            }
          },
          "metadata": {}
        },
        {
          "output_type": "display_data",
          "data": {
            "application/vnd.vegalite.v2+json": {
              "data": {
                "url": "https://vega.github.io/vega-datasets/data/movies.json"
              },
              "mark": "bar",
              "encoding": {
                "x": {
                  "bin": {
                    "maxbins": 10
                  },
                  "field": "IMDB_Rating",
                  "type": "quantitative"
                },
                "y": {
                  "aggregate": "count",
                  "field": "*",
                  "type": "quantitative"
                }
              }
            }
          },
          "metadata": {}
        },
        {
          "output_type": "display_data",
          "data": {
            "application/vnd.vegalite.v3+json": {
              "data": {
                "url": "https://vega.github.io/vega-datasets/data/movies.json"
              },
              "mark": "bar",
              "encoding": {
                "x": {
                  "bin": {
                    "maxbins": 10
                  },
                  "field": "IMDB_Rating",
                  "type": "quantitative"
                },
                "y": {
                  "aggregate": "count",
                  "field": "*",
                  "type": "quantitative"
                }
              }
            }
          },
          "metadata": {}
        }
      ],
      "execution_count": 8,
      "metadata": {
        "collapsed": false,
        "outputHidden": false,
        "inputHidden": false
      }
    },
    {
      "cell_type": "code",
      "source": [
        "from requests import get\n",
        "from json import loads\n",
        "from vega_datasets import data\n",
        "from IPython.display import display\n",
        "\n",
        "for version, url in (\n",
        "    (2, 'https://raw.githubusercontent.com/vega/vega/v2.6.5/examples/budget_forecasts.json'),\n",
        "    (3, 'https://raw.githubusercontent.com/vega/vega/v3.3.1/docs/examples/budget-forecasts.vg.json'),\n",
        "    (4, 'https://raw.githubusercontent.com/vega/vega/v4.4.0/docs/examples/budget-forecasts.vg.json'),\n",
        "    (5, 'https://raw.githubusercontent.com/vega/vega/v5.4.0/docs/examples/budget-forecasts.vg.json'),\n",
        "):\n",
        "    spec = loads(get(url).content.decode('us-ascii'))\n",
        "    spec['data'][0]['url'] = data.budgets.url\n",
        "    display({f'application/vnd.vega.v{version}+json': spec}, raw=True)"
      ],
      "outputs": [
        {
          "output_type": "display_data",
          "data": {
            "application/vnd.vega.v2+json": {
              "width": 700,
              "height": 400,
              "padding": {
                "top": 10,
                "left": 10,
                "right": 80,
                "bottom": 10
              },
              "background": "#edf1f7",
              "signals": [
                {
                  "name": "dragging",
                  "init": false,
                  "streams": [
                    {
                      "type": "@handle:mousedown",
                      "expr": "true"
                    },
                    {
                      "type": "mouseup",
                      "expr": "false"
                    }
                  ]
                },
                {
                  "name": "handleYear",
                  "streams": [
                    {
                      "type": "mousemove[dragging]",
                      "expr": "clamp(eventX(), 10, 10000)",
                      "scale": {
                        "name": "x",
                        "invert": true
                      }
                    }
                  ]
                },
                {
                  "name": "currentYear",
                  "init": 2010,
                  "expr": "clamp(handleYear, 1980, 2010)"
                },
                {
                  "name": "tipYear",
                  "streams": [
                    {
                      "type": "mousemove[!dragging]",
                      "expr": "eventX()",
                      "scale": {
                        "name": "x",
                        "invert": true
                      }
                    }
                  ]
                },
                {
                  "name": "tipValue",
                  "streams": [
                    {
                      "type": "mousemove[!dragging]",
                      "expr": "eventY()",
                      "scale": {
                        "name": "y",
                        "invert": true
                      }
                    }
                  ]
                },
                {
                  "name": "cursor",
                  "streams": [
                    {
                      "type": "dragging",
                      "expr": "dragging ? 'pointer' : 'default'"
                    }
                  ]
                }
              ],
              "data": [
                {
                  "name": "budgets",
                  "url": "https://vega.github.io/vega-datasets/data/budgets.json",
                  "transform": [
                    {
                      "type": "formula",
                      "field": "abs",
                      "expr": "abs(datum.value)"
                    },
                    {
                      "type": "formula",
                      "field": "type",
                      "expr": "datum.value < 0 ? 'deficit' : 'surplus'"
                    }
                  ]
                },
                {
                  "name": "tooltip",
                  "source": "budgets",
                  "transform": [
                    {
                      "type": "filter",
                      "test": "datum.budgetYear <= currentYear && datum.forecastYear == tipYear && abs(datum.value - tipValue) <= 0.1"
                    },
                    {
                      "type": "aggregate",
                      "summarize": [
                        {
                          "field": "value",
                          "ops": [
                            "min",
                            "argmin"
                          ],
                          "as": [
                            "min",
                            "argmin"
                          ]
                        }
                      ]
                    },
                    {
                      "type": "formula",
                      "field": "minYear",
                      "expr": "datum.argmin.budgetYear"
                    }
                  ]
                },
                {
                  "name": "tipForecast",
                  "source": "budgets",
                  "transform": [
                    {
                      "type": "lookup",
                      "on": "tooltip",
                      "onKey": "minYear",
                      "keys": [
                        "budgetYear"
                      ],
                      "as": [
                        "t"
                      ]
                    },
                    {
                      "type": "filter",
                      "test": "datum.t"
                    }
                  ]
                }
              ],
              "scales": [
                {
                  "name": "x",
                  "type": "ordinal",
                  "domain": {
                    "data": "budgets",
                    "field": "forecastYear"
                  },
                  "range": "width"
                },
                {
                  "name": "y",
                  "type": "linear",
                  "domain": {
                    "data": "budgets",
                    "field": "value"
                  },
                  "range": "height"
                }
              ],
              "axes": [
                {
                  "type": "x",
                  "scale": "x",
                  "grid": true,
                  "layer": "back",
                  "values": [
                    1982,
                    1986,
                    1990,
                    1994,
                    1998,
                    2002,
                    2006,
                    2010,
                    2014,
                    2018
                  ],
                  "tickSize": 0,
                  "properties": {
                    "grid": {
                      "stroke": {
                        "value": "white"
                      },
                      "strokeOpacity": {
                        "value": 0.75
                      }
                    },
                    "axis": {
                      "stroke": {
                        "value": "#edf1f7"
                      }
                    },
                    "labels": {
                      "fill": {
                        "value": "#edf1f7"
                      }
                    }
                  }
                },
                {
                  "type": "y",
                  "scale": "y",
                  "grid": true,
                  "layer": "back",
                  "orient": "right",
                  "values": [
                    0,
                    -0.5,
                    -1,
                    -1.5
                  ],
                  "tickSize": 0,
                  "properties": {
                    "grid": {
                      "stroke": {
                        "value": "white"
                      },
                      "strokeOpacity": {
                        "value": 0.75
                      }
                    },
                    "axis": {
                      "stroke": {
                        "value": "#edf1f7"
                      }
                    },
                    "labels": {
                      "text": {
                        "template": "{{datum.data|number:'$.1f'}} trillion"
                      }
                    }
                  }
                }
              ],
              "marks": [
                {
                  "type": "group",
                  "from": {
                    "data": "budgets",
                    "transform": [
                      {
                        "type": "filter",
                        "test": "datum.budgetYear <= currentYear"
                      },
                      {
                        "type": "facet",
                        "groupby": [
                          "budgetYear"
                        ]
                      }
                    ]
                  },
                  "marks": [
                    {
                      "type": "line",
                      "properties": {
                        "update": {
                          "x": {
                            "scale": "x",
                            "field": "forecastYear"
                          },
                          "y": {
                            "scale": "y",
                            "field": "value"
                          },
                          "stroke": {
                            "value": "steelblue"
                          },
                          "strokeWidth": {
                            "value": 1
                          },
                          "strokeOpacity": {
                            "value": 0.25
                          }
                        }
                      }
                    }
                  ]
                },
                {
                  "type": "line",
                  "from": {
                    "data": "budgets",
                    "transform": [
                      {
                        "type": "filter",
                        "test": "datum.budgetYear <= currentYear && datum.forecastYear == datum.budgetYear - 1"
                      }
                    ]
                  },
                  "properties": {
                    "update": {
                      "x": {
                        "scale": "x",
                        "field": "forecastYear"
                      },
                      "y": {
                        "scale": "y",
                        "field": "value"
                      },
                      "stroke": {
                        "value": "steelblue"
                      },
                      "strokeWidth": {
                        "value": 3
                      }
                    }
                  }
                },
                {
                  "type": "line",
                  "from": {
                    "data": "tipForecast"
                  },
                  "properties": {
                    "update": {
                      "x": {
                        "scale": "x",
                        "field": "forecastYear"
                      },
                      "y": {
                        "scale": "y",
                        "field": "value"
                      },
                      "stroke": {
                        "value": "black"
                      },
                      "strokeWidth": {
                        "value": 1
                      }
                    }
                  }
                },
                {
                  "type": "symbol",
                  "from": {
                    "data": "tooltip"
                  },
                  "properties": {
                    "update": {
                      "x": {
                        "scale": "x",
                        "field": "argmin.forecastYear"
                      },
                      "y": {
                        "scale": "y",
                        "field": "argmin.value"
                      },
                      "size": {
                        "value": 50
                      },
                      "fill": {
                        "value": "black"
                      }
                    }
                  }
                },
                {
                  "type": "rule",
                  "properties": {
                    "enter": {
                      "y": {
                        "scale": "y",
                        "value": 0
                      },
                      "stroke": {
                        "value": "#000"
                      },
                      "strokeWidth": {
                        "value": 1
                      }
                    },
                    "update": {
                      "x": {
                        "value": 0
                      },
                      "x2": {
                        "scale": "x",
                        "signal": "currentYear"
                      }
                    }
                  }
                },
                {
                  "name": "handle",
                  "type": "symbol",
                  "properties": {
                    "enter": {
                      "y": {
                        "scale": "y",
                        "value": 0,
                        "offset": 1
                      },
                      "shape": {
                        "value": "triangle-down"
                      },
                      "size": {
                        "value": 150
                      },
                      "stroke": {
                        "value": "#000"
                      },
                      "strokeWidth": {
                        "value": 0.5
                      }
                    },
                    "update": {
                      "x": {
                        "scale": "x",
                        "signal": "currentYear"
                      },
                      "fill": {
                        "value": "#fff"
                      }
                    },
                    "hover": {
                      "fill": {
                        "value": "lemonchiffon"
                      },
                      "cursor": {
                        "value": "pointer"
                      }
                    }
                  }
                },
                {
                  "type": "text",
                  "properties": {
                    "enter": {
                      "x": {
                        "value": 0
                      },
                      "y": {
                        "value": 25
                      },
                      "fontSize": {
                        "value": 32
                      },
                      "fontWeight": {
                        "value": "bold"
                      },
                      "fill": {
                        "value": "steelblue"
                      }
                    },
                    "update": {
                      "text": {
                        "signal": "currentYear"
                      }
                    }
                  }
                },
                {
                  "type": "group",
                  "from": {
                    "data": "tooltip"
                  },
                  "properties": {
                    "update": {
                      "x": {
                        "scale": "x",
                        "field": "argmin.forecastYear",
                        "offset": -5
                      },
                      "y": {
                        "scale": "y",
                        "field": "argmin.value",
                        "offset": 20
                      },
                      "width": {
                        "value": 150
                      },
                      "height": {
                        "value": 35
                      },
                      "fill": {
                        "value": "#fff"
                      },
                      "fillOpacity": {
                        "value": 0.85
                      },
                      "stroke": {
                        "value": "#aaa"
                      },
                      "strokeWidth": {
                        "value": 0.5
                      }
                    }
                  },
                  "marks": [
                    {
                      "type": "text",
                      "properties": {
                        "update": {
                          "x": {
                            "value": 6
                          },
                          "y": {
                            "value": 14
                          },
                          "text": {
                            "template": "Forecast from early {{parent.argmin.budgetYear}}"
                          },
                          "fill": {
                            "value": "black"
                          },
                          "fontWeight": {
                            "value": "bold"
                          }
                        }
                      }
                    },
                    {
                      "type": "text",
                      "properties": {
                        "update": {
                          "x": {
                            "value": 6
                          },
                          "y": {
                            "value": 29
                          },
                          "text": {
                            "template": "{{parent.argmin.forecastYear}} \t {{parent.argmin.abs|number:'$.3f'}} trillion {{parent.argmin.type}}"
                          },
                          "fill": {
                            "value": "black"
                          },
                          "align": {
                            "value": "left"
                          }
                        }
                      }
                    }
                  ]
                }
              ]
            }
          },
          "metadata": {}
        },
        {
          "output_type": "display_data",
          "data": {
            "application/vnd.vega.v3+json": {
              "$schema": "https://vega.github.io/schema/vega/v3.json",
              "width": 700,
              "height": 400,
              "padding": 5,
              "background": "#edf1f7",
              "config": {
                "axisBand": {
                  "bandPosition": 0,
                  "labelPadding": 5,
                  "tickExtra": false
                }
              },
              "signals": [
                {
                  "name": "dragging",
                  "value": false,
                  "on": [
                    {
                      "events": "@handle:mousedown",
                      "update": "true"
                    },
                    {
                      "events": "window:mouseup",
                      "update": "false"
                    }
                  ]
                },
                {
                  "name": "handleYear",
                  "value": 2010,
                  "on": [
                    {
                      "events": "[@handle:mousedown, window:mouseup] > window:mousemove!",
                      "update": "invert('x', clamp(x(), 0, width))"
                    }
                  ]
                },
                {
                  "name": "currentYear",
                  "update": "clamp(handleYear, 1980, 2010)"
                },
                {
                  "name": "tipYear",
                  "on": [
                    {
                      "events": "mousemove",
                      "update": "dragging ? tipYear : invert('x', x())"
                    }
                  ]
                },
                {
                  "name": "tipValue",
                  "on": [
                    {
                      "events": "mousemove",
                      "update": "dragging ? tipValue : invert('y', y())"
                    }
                  ]
                },
                {
                  "name": "cursor",
                  "value": "default",
                  "on": [
                    {
                      "events": {
                        "signal": "dragging"
                      },
                      "update": "dragging ? 'pointer' : 'default'"
                    }
                  ]
                }
              ],
              "data": [
                {
                  "name": "budgets",
                  "url": "https://vega.github.io/vega-datasets/data/budgets.json",
                  "transform": [
                    {
                      "type": "formula",
                      "as": "abs",
                      "expr": "abs(datum.value)"
                    },
                    {
                      "type": "formula",
                      "as": "type",
                      "expr": "datum.value < 0 ? 'deficit' : 'surplus'"
                    }
                  ]
                },
                {
                  "name": "budgets-current",
                  "source": "budgets",
                  "transform": [
                    {
                      "type": "filter",
                      "expr": "datum.budgetYear <= currentYear"
                    }
                  ]
                },
                {
                  "name": "budgets-actual",
                  "source": "budgets",
                  "transform": [
                    {
                      "type": "filter",
                      "expr": "datum.budgetYear <= currentYear && datum.forecastYear == datum.budgetYear - 1"
                    }
                  ]
                },
                {
                  "name": "tooltip",
                  "source": "budgets",
                  "transform": [
                    {
                      "type": "filter",
                      "expr": "datum.budgetYear <= currentYear && datum.forecastYear == tipYear && abs(datum.value - tipValue) <= 0.1"
                    },
                    {
                      "type": "aggregate",
                      "fields": [
                        "value",
                        "value"
                      ],
                      "ops": [
                        "min",
                        "argmin"
                      ],
                      "as": [
                        "min",
                        "argmin"
                      ]
                    },
                    {
                      "type": "formula",
                      "as": "tooltipYear",
                      "expr": "datum.argmin.budgetYear"
                    }
                  ]
                },
                {
                  "name": "tooltip-forecast",
                  "source": "budgets",
                  "transform": [
                    {
                      "type": "lookup",
                      "from": "tooltip",
                      "key": "tooltipYear",
                      "fields": [
                        "budgetYear"
                      ],
                      "as": [
                        "tooltip"
                      ]
                    },
                    {
                      "type": "filter",
                      "expr": "datum.tooltip"
                    }
                  ]
                }
              ],
              "scales": [
                {
                  "name": "x",
                  "type": "band",
                  "domain": {
                    "data": "budgets",
                    "field": "forecastYear"
                  },
                  "range": "width"
                },
                {
                  "name": "y",
                  "type": "linear",
                  "zero": true,
                  "domain": {
                    "data": "budgets",
                    "field": "value"
                  },
                  "range": "height"
                }
              ],
              "axes": [
                {
                  "orient": "bottom",
                  "scale": "x",
                  "grid": true,
                  "domain": false,
                  "values": [
                    1982,
                    1986,
                    1990,
                    1994,
                    1998,
                    2002,
                    2006,
                    2010,
                    2014,
                    2018
                  ],
                  "tickSize": 0,
                  "encode": {
                    "grid": {
                      "enter": {
                        "stroke": {
                          "value": "white"
                        },
                        "strokeOpacity": {
                          "value": 0.75
                        }
                      }
                    },
                    "labels": {
                      "update": {
                        "x": {
                          "scale": "x",
                          "field": "value"
                        }
                      }
                    }
                  }
                },
                {
                  "orient": "right",
                  "scale": "y",
                  "grid": true,
                  "domain": false,
                  "values": [
                    0,
                    -0.5,
                    -1,
                    -1.5
                  ],
                  "tickSize": 0,
                  "encode": {
                    "grid": {
                      "enter": {
                        "stroke": {
                          "value": "white"
                        },
                        "strokeOpacity": {
                          "value": 0.75
                        }
                      }
                    },
                    "labels": {
                      "enter": {
                        "text": {
                          "signal": "format(datum.value, '$.1f') + ' trillion'"
                        }
                      }
                    }
                  }
                }
              ],
              "marks": [
                {
                  "type": "group",
                  "from": {
                    "facet": {
                      "name": "facet",
                      "data": "budgets-current",
                      "groupby": "budgetYear"
                    }
                  },
                  "marks": [
                    {
                      "type": "line",
                      "from": {
                        "data": "facet"
                      },
                      "encode": {
                        "update": {
                          "x": {
                            "scale": "x",
                            "field": "forecastYear"
                          },
                          "y": {
                            "scale": "y",
                            "field": "value"
                          },
                          "stroke": {
                            "value": "steelblue"
                          },
                          "strokeWidth": {
                            "value": 1
                          },
                          "strokeOpacity": {
                            "value": 0.25
                          }
                        }
                      }
                    }
                  ]
                },
                {
                  "type": "line",
                  "from": {
                    "data": "budgets-actual"
                  },
                  "encode": {
                    "update": {
                      "x": {
                        "scale": "x",
                        "field": "forecastYear"
                      },
                      "y": {
                        "scale": "y",
                        "field": "value"
                      },
                      "stroke": {
                        "value": "steelblue"
                      },
                      "strokeWidth": {
                        "value": 3
                      }
                    }
                  }
                },
                {
                  "type": "line",
                  "from": {
                    "data": "tooltip-forecast"
                  },
                  "encode": {
                    "update": {
                      "x": {
                        "scale": "x",
                        "field": "forecastYear"
                      },
                      "y": {
                        "scale": "y",
                        "field": "value"
                      },
                      "stroke": {
                        "value": "black"
                      },
                      "strokeWidth": {
                        "value": 1
                      }
                    }
                  }
                },
                {
                  "type": "symbol",
                  "from": {
                    "data": "tooltip"
                  },
                  "encode": {
                    "update": {
                      "x": {
                        "scale": "x",
                        "field": "argmin.forecastYear"
                      },
                      "y": {
                        "scale": "y",
                        "field": "argmin.value"
                      },
                      "size": {
                        "value": 50
                      },
                      "fill": {
                        "value": "black"
                      }
                    }
                  }
                },
                {
                  "type": "rule",
                  "encode": {
                    "enter": {
                      "y": {
                        "scale": "y",
                        "value": 0
                      },
                      "stroke": {
                        "value": "#000"
                      },
                      "strokeWidth": {
                        "value": 1
                      }
                    },
                    "update": {
                      "x": {
                        "value": 0
                      },
                      "x2": {
                        "scale": "x",
                        "signal": "currentYear"
                      }
                    }
                  }
                },
                {
                  "name": "handle",
                  "type": "symbol",
                  "encode": {
                    "enter": {
                      "y": {
                        "scale": "y",
                        "value": 0,
                        "offset": 1
                      },
                      "shape": {
                        "value": "triangle-down"
                      },
                      "size": {
                        "value": 400
                      },
                      "stroke": {
                        "value": "#000"
                      },
                      "strokeWidth": {
                        "value": 0.5
                      }
                    },
                    "update": {
                      "x": {
                        "scale": "x",
                        "signal": "currentYear"
                      },
                      "fill": {
                        "signal": "dragging ? 'lemonchiffon' : '#fff'"
                      }
                    },
                    "hover": {
                      "fill": {
                        "value": "lemonchiffon"
                      },
                      "cursor": {
                        "value": "pointer"
                      }
                    }
                  }
                },
                {
                  "type": "text",
                  "encode": {
                    "enter": {
                      "x": {
                        "value": 0
                      },
                      "y": {
                        "value": 25
                      },
                      "fontSize": {
                        "value": 32
                      },
                      "fontWeight": {
                        "value": "bold"
                      },
                      "fill": {
                        "value": "steelblue"
                      }
                    },
                    "update": {
                      "text": {
                        "signal": "currentYear"
                      }
                    }
                  }
                },
                {
                  "type": "group",
                  "from": {
                    "data": "tooltip"
                  },
                  "interactive": false,
                  "encode": {
                    "update": {
                      "x": {
                        "scale": "x",
                        "field": "argmin.forecastYear",
                        "offset": -5
                      },
                      "y": {
                        "scale": "y",
                        "field": "argmin.value",
                        "offset": 20
                      },
                      "width": {
                        "value": 150
                      },
                      "height": {
                        "value": 35
                      },
                      "fill": {
                        "value": "#fff"
                      },
                      "fillOpacity": {
                        "value": 0.85
                      },
                      "stroke": {
                        "value": "#aaa"
                      },
                      "strokeWidth": {
                        "value": 0.5
                      }
                    }
                  },
                  "marks": [
                    {
                      "type": "text",
                      "interactive": false,
                      "encode": {
                        "update": {
                          "x": {
                            "value": 6
                          },
                          "y": {
                            "value": 14
                          },
                          "text": {
                            "signal": "'Forecast from early ' + parent.argmin.budgetYear"
                          },
                          "fill": {
                            "value": "black"
                          },
                          "fontWeight": {
                            "value": "bold"
                          }
                        }
                      }
                    },
                    {
                      "type": "text",
                      "interactive": false,
                      "encode": {
                        "update": {
                          "x": {
                            "value": 6
                          },
                          "y": {
                            "value": 29
                          },
                          "text": {
                            "signal": "parent.argmin.forecastYear + ': ' + format(parent.argmin.abs, '$.3f') + ' trillion ' + parent.argmin.type"
                          },
                          "fill": {
                            "value": "black"
                          },
                          "align": {
                            "value": "left"
                          }
                        }
                      }
                    }
                  ]
                }
              ]
            }
          },
          "metadata": {}
        },
        {
          "output_type": "display_data",
          "data": {
            "application/vnd.vega.v4+json": {
              "$schema": "https://vega.github.io/schema/vega/v4.json",
              "width": 700,
              "height": 400,
              "padding": 5,
              "background": "#edf1f7",
              "config": {
                "axisBand": {
                  "bandPosition": 0,
                  "labelPadding": 5,
                  "tickExtra": false
                }
              },
              "signals": [
                {
                  "name": "dragging",
                  "value": false,
                  "on": [
                    {
                      "events": "@handle:mousedown",
                      "update": "true"
                    },
                    {
                      "events": "window:mouseup",
                      "update": "false"
                    }
                  ]
                },
                {
                  "name": "handleYear",
                  "value": 2010,
                  "on": [
                    {
                      "events": "[@handle:mousedown, window:mouseup] > window:mousemove!",
                      "update": "invert('x', clamp(x(), 0, width))"
                    }
                  ]
                },
                {
                  "name": "currentYear",
                  "update": "clamp(handleYear, 1980, 2010)"
                },
                {
                  "name": "tipYear",
                  "on": [
                    {
                      "events": "mousemove",
                      "update": "dragging ? tipYear : invert('x', x())"
                    }
                  ]
                },
                {
                  "name": "tipValue",
                  "on": [
                    {
                      "events": "mousemove",
                      "update": "dragging ? tipValue : invert('y', y())"
                    }
                  ]
                },
                {
                  "name": "cursor",
                  "value": "default",
                  "on": [
                    {
                      "events": {
                        "signal": "dragging"
                      },
                      "update": "dragging ? 'pointer' : 'default'"
                    }
                  ]
                }
              ],
              "data": [
                {
                  "name": "budgets",
                  "url": "https://vega.github.io/vega-datasets/data/budgets.json",
                  "transform": [
                    {
                      "type": "formula",
                      "as": "abs",
                      "expr": "abs(datum.value)"
                    },
                    {
                      "type": "formula",
                      "as": "type",
                      "expr": "datum.value < 0 ? 'deficit' : 'surplus'"
                    }
                  ]
                },
                {
                  "name": "budgets-current",
                  "source": "budgets",
                  "transform": [
                    {
                      "type": "filter",
                      "expr": "datum.budgetYear <= currentYear"
                    }
                  ]
                },
                {
                  "name": "budgets-actual",
                  "source": "budgets",
                  "transform": [
                    {
                      "type": "filter",
                      "expr": "datum.budgetYear <= currentYear && datum.forecastYear == datum.budgetYear - 1"
                    }
                  ]
                },
                {
                  "name": "tooltip",
                  "source": "budgets",
                  "transform": [
                    {
                      "type": "filter",
                      "expr": "datum.budgetYear <= currentYear && datum.forecastYear == tipYear && abs(datum.value - tipValue) <= 0.1"
                    },
                    {
                      "type": "aggregate",
                      "fields": [
                        "value",
                        "value"
                      ],
                      "ops": [
                        "min",
                        "argmin"
                      ],
                      "as": [
                        "min",
                        "argmin"
                      ]
                    },
                    {
                      "type": "formula",
                      "as": "tooltipYear",
                      "expr": "datum.argmin.budgetYear"
                    }
                  ]
                },
                {
                  "name": "tooltip-forecast",
                  "source": "budgets",
                  "transform": [
                    {
                      "type": "lookup",
                      "from": "tooltip",
                      "key": "tooltipYear",
                      "fields": [
                        "budgetYear"
                      ],
                      "as": [
                        "tooltip"
                      ]
                    },
                    {
                      "type": "filter",
                      "expr": "datum.tooltip"
                    }
                  ]
                }
              ],
              "scales": [
                {
                  "name": "x",
                  "type": "band",
                  "domain": {
                    "data": "budgets",
                    "field": "forecastYear"
                  },
                  "range": "width"
                },
                {
                  "name": "y",
                  "type": "linear",
                  "zero": true,
                  "domain": {
                    "data": "budgets",
                    "field": "value"
                  },
                  "range": "height"
                }
              ],
              "axes": [
                {
                  "orient": "bottom",
                  "scale": "x",
                  "grid": true,
                  "domain": false,
                  "values": [
                    1982,
                    1986,
                    1990,
                    1994,
                    1998,
                    2002,
                    2006,
                    2010,
                    2014,
                    2018
                  ],
                  "tickSize": 0,
                  "encode": {
                    "grid": {
                      "enter": {
                        "stroke": {
                          "value": "white"
                        },
                        "strokeOpacity": {
                          "value": 0.75
                        }
                      }
                    },
                    "labels": {
                      "update": {
                        "x": {
                          "scale": "x",
                          "field": "value"
                        }
                      }
                    }
                  }
                },
                {
                  "orient": "right",
                  "scale": "y",
                  "grid": true,
                  "domain": false,
                  "values": [
                    0,
                    -0.5,
                    -1,
                    -1.5
                  ],
                  "tickSize": 0,
                  "encode": {
                    "grid": {
                      "enter": {
                        "stroke": {
                          "value": "white"
                        },
                        "strokeOpacity": {
                          "value": 0.75
                        }
                      }
                    },
                    "labels": {
                      "enter": {
                        "text": {
                          "signal": "format(datum.value, '$.1f') + ' trillion'"
                        }
                      }
                    }
                  }
                }
              ],
              "marks": [
                {
                  "type": "group",
                  "from": {
                    "facet": {
                      "name": "facet",
                      "data": "budgets-current",
                      "groupby": "budgetYear"
                    }
                  },
                  "marks": [
                    {
                      "type": "line",
                      "from": {
                        "data": "facet"
                      },
                      "encode": {
                        "update": {
                          "x": {
                            "scale": "x",
                            "field": "forecastYear"
                          },
                          "y": {
                            "scale": "y",
                            "field": "value"
                          },
                          "stroke": {
                            "value": "steelblue"
                          },
                          "strokeWidth": {
                            "value": 1
                          },
                          "strokeOpacity": {
                            "value": 0.25
                          }
                        }
                      }
                    }
                  ]
                },
                {
                  "type": "line",
                  "from": {
                    "data": "budgets-actual"
                  },
                  "encode": {
                    "update": {
                      "x": {
                        "scale": "x",
                        "field": "forecastYear"
                      },
                      "y": {
                        "scale": "y",
                        "field": "value"
                      },
                      "stroke": {
                        "value": "steelblue"
                      },
                      "strokeWidth": {
                        "value": 3
                      }
                    }
                  }
                },
                {
                  "type": "line",
                  "from": {
                    "data": "tooltip-forecast"
                  },
                  "encode": {
                    "update": {
                      "x": {
                        "scale": "x",
                        "field": "forecastYear"
                      },
                      "y": {
                        "scale": "y",
                        "field": "value"
                      },
                      "stroke": {
                        "value": "black"
                      },
                      "strokeWidth": {
                        "value": 1
                      }
                    }
                  }
                },
                {
                  "type": "symbol",
                  "from": {
                    "data": "tooltip"
                  },
                  "encode": {
                    "update": {
                      "x": {
                        "scale": "x",
                        "field": "argmin.forecastYear"
                      },
                      "y": {
                        "scale": "y",
                        "field": "argmin.value"
                      },
                      "size": {
                        "value": 50
                      },
                      "fill": {
                        "value": "black"
                      }
                    }
                  }
                },
                {
                  "type": "rule",
                  "encode": {
                    "enter": {
                      "y": {
                        "scale": "y",
                        "value": 0
                      },
                      "stroke": {
                        "value": "#000"
                      },
                      "strokeWidth": {
                        "value": 1
                      }
                    },
                    "update": {
                      "x": {
                        "value": 0
                      },
                      "x2": {
                        "scale": "x",
                        "signal": "currentYear"
                      }
                    }
                  }
                },
                {
                  "name": "handle",
                  "type": "symbol",
                  "encode": {
                    "enter": {
                      "y": {
                        "scale": "y",
                        "value": 0,
                        "offset": 1
                      },
                      "shape": {
                        "value": "triangle-down"
                      },
                      "size": {
                        "value": 400
                      },
                      "stroke": {
                        "value": "#000"
                      },
                      "strokeWidth": {
                        "value": 0.5
                      }
                    },
                    "update": {
                      "x": {
                        "scale": "x",
                        "signal": "currentYear"
                      },
                      "fill": {
                        "signal": "dragging ? 'lemonchiffon' : '#fff'"
                      }
                    },
                    "hover": {
                      "fill": {
                        "value": "lemonchiffon"
                      },
                      "cursor": {
                        "value": "pointer"
                      }
                    }
                  }
                },
                {
                  "type": "text",
                  "encode": {
                    "enter": {
                      "x": {
                        "value": 0
                      },
                      "y": {
                        "value": 25
                      },
                      "fontSize": {
                        "value": 32
                      },
                      "fontWeight": {
                        "value": "bold"
                      },
                      "fill": {
                        "value": "steelblue"
                      }
                    },
                    "update": {
                      "text": {
                        "signal": "currentYear"
                      }
                    }
                  }
                },
                {
                  "type": "group",
                  "from": {
                    "data": "tooltip"
                  },
                  "interactive": false,
                  "encode": {
                    "update": {
                      "x": {
                        "scale": "x",
                        "field": "argmin.forecastYear",
                        "offset": -5
                      },
                      "y": {
                        "scale": "y",
                        "field": "argmin.value",
                        "offset": 20
                      },
                      "width": {
                        "value": 150
                      },
                      "height": {
                        "value": 35
                      },
                      "fill": {
                        "value": "#fff"
                      },
                      "fillOpacity": {
                        "value": 0.85
                      },
                      "stroke": {
                        "value": "#aaa"
                      },
                      "strokeWidth": {
                        "value": 0.5
                      }
                    }
                  },
                  "marks": [
                    {
                      "type": "text",
                      "interactive": false,
                      "encode": {
                        "update": {
                          "x": {
                            "value": 6
                          },
                          "y": {
                            "value": 14
                          },
                          "text": {
                            "signal": "'Forecast from early ' + parent.argmin.budgetYear"
                          },
                          "fill": {
                            "value": "black"
                          },
                          "fontWeight": {
                            "value": "bold"
                          }
                        }
                      }
                    },
                    {
                      "type": "text",
                      "interactive": false,
                      "encode": {
                        "update": {
                          "x": {
                            "value": 6
                          },
                          "y": {
                            "value": 29
                          },
                          "text": {
                            "signal": "parent.argmin.forecastYear + ': ' + format(parent.argmin.abs, '$.3f') + ' trillion ' + parent.argmin.type"
                          },
                          "fill": {
                            "value": "black"
                          },
                          "align": {
                            "value": "left"
                          }
                        }
                      }
                    }
                  ]
                }
              ]
            }
          },
          "metadata": {}
        },
        {
          "output_type": "display_data",
          "data": {
            "application/vnd.vega.v5+json": {
              "$schema": "https://vega.github.io/schema/vega/v5.json",
              "width": 700,
              "height": 400,
              "padding": 5,
              "background": "#edf1f7",
              "config": {
                "axisBand": {
                  "bandPosition": 0,
                  "labelPadding": 5,
                  "tickExtra": false
                }
              },
              "signals": [
                {
                  "name": "dragging",
                  "value": false,
                  "on": [
                    {
                      "events": "@handle:mousedown",
                      "update": "true"
                    },
                    {
                      "events": "window:mouseup",
                      "update": "false"
                    }
                  ]
                },
                {
                  "name": "handleYear",
                  "value": 2010,
                  "on": [
                    {
                      "events": "[@handle:mousedown, window:mouseup] > window:mousemove!",
                      "update": "invert('x', clamp(x(), 0, width))"
                    }
                  ]
                },
                {
                  "name": "currentYear",
                  "update": "clamp(handleYear, 1980, 2010)"
                },
                {
                  "name": "tipYear",
                  "on": [
                    {
                      "events": "mousemove",
                      "update": "dragging ? tipYear : invert('x', x())"
                    }
                  ]
                },
                {
                  "name": "tipValue",
                  "on": [
                    {
                      "events": "mousemove",
                      "update": "dragging ? tipValue : invert('y', y())"
                    }
                  ]
                },
                {
                  "name": "cursor",
                  "value": "default",
                  "on": [
                    {
                      "events": {
                        "signal": "dragging"
                      },
                      "update": "dragging ? 'pointer' : 'default'"
                    }
                  ]
                }
              ],
              "data": [
                {
                  "name": "budgets",
                  "url": "https://vega.github.io/vega-datasets/data/budgets.json",
                  "transform": [
                    {
                      "type": "formula",
                      "as": "abs",
                      "expr": "abs(datum.value)"
                    },
                    {
                      "type": "formula",
                      "as": "type",
                      "expr": "datum.value < 0 ? 'deficit' : 'surplus'"
                    }
                  ]
                },
                {
                  "name": "budgets-current",
                  "source": "budgets",
                  "transform": [
                    {
                      "type": "filter",
                      "expr": "datum.budgetYear <= currentYear"
                    }
                  ]
                },
                {
                  "name": "budgets-actual",
                  "source": "budgets",
                  "transform": [
                    {
                      "type": "filter",
                      "expr": "datum.budgetYear <= currentYear && datum.forecastYear == datum.budgetYear - 1"
                    }
                  ]
                },
                {
                  "name": "tooltip",
                  "source": "budgets",
                  "transform": [
                    {
                      "type": "filter",
                      "expr": "datum.budgetYear <= currentYear && datum.forecastYear == tipYear && abs(datum.value - tipValue) <= 0.1"
                    },
                    {
                      "type": "aggregate",
                      "fields": [
                        "value",
                        "value"
                      ],
                      "ops": [
                        "min",
                        "argmin"
                      ],
                      "as": [
                        "min",
                        "argmin"
                      ]
                    },
                    {
                      "type": "formula",
                      "as": "tooltipYear",
                      "expr": "datum.argmin.budgetYear"
                    }
                  ]
                },
                {
                  "name": "tooltip-forecast",
                  "source": "budgets",
                  "transform": [
                    {
                      "type": "lookup",
                      "from": "tooltip",
                      "key": "tooltipYear",
                      "fields": [
                        "budgetYear"
                      ],
                      "as": [
                        "tooltip"
                      ]
                    },
                    {
                      "type": "filter",
                      "expr": "datum.tooltip"
                    }
                  ]
                }
              ],
              "scales": [
                {
                  "name": "x",
                  "type": "band",
                  "domain": {
                    "data": "budgets",
                    "field": "forecastYear"
                  },
                  "range": "width"
                },
                {
                  "name": "y",
                  "type": "linear",
                  "zero": true,
                  "domain": {
                    "data": "budgets",
                    "field": "value"
                  },
                  "range": "height"
                }
              ],
              "axes": [
                {
                  "orient": "bottom",
                  "scale": "x",
                  "grid": true,
                  "domain": false,
                  "values": [
                    1982,
                    1986,
                    1990,
                    1994,
                    1998,
                    2002,
                    2006,
                    2010,
                    2014,
                    2018
                  ],
                  "tickSize": 0,
                  "encode": {
                    "grid": {
                      "enter": {
                        "stroke": {
                          "value": "white"
                        },
                        "strokeOpacity": {
                          "value": 0.75
                        }
                      }
                    },
                    "labels": {
                      "update": {
                        "x": {
                          "scale": "x",
                          "field": "value"
                        }
                      }
                    }
                  }
                },
                {
                  "orient": "right",
                  "scale": "y",
                  "grid": true,
                  "domain": false,
                  "values": [
                    0,
                    -0.5,
                    -1,
                    -1.5
                  ],
                  "tickSize": 0,
                  "encode": {
                    "grid": {
                      "enter": {
                        "stroke": {
                          "value": "white"
                        },
                        "strokeOpacity": {
                          "value": 0.75
                        }
                      }
                    },
                    "labels": {
                      "enter": {
                        "text": {
                          "signal": "format(datum.value, '$.1f') + ' trillion'"
                        }
                      }
                    }
                  }
                }
              ],
              "marks": [
                {
                  "type": "group",
                  "from": {
                    "facet": {
                      "name": "facet",
                      "data": "budgets-current",
                      "groupby": "budgetYear"
                    }
                  },
                  "marks": [
                    {
                      "type": "line",
                      "from": {
                        "data": "facet"
                      },
                      "encode": {
                        "update": {
                          "x": {
                            "scale": "x",
                            "field": "forecastYear"
                          },
                          "y": {
                            "scale": "y",
                            "field": "value"
                          },
                          "stroke": {
                            "value": "steelblue"
                          },
                          "strokeWidth": {
                            "value": 1
                          },
                          "strokeOpacity": {
                            "value": 0.25
                          }
                        }
                      }
                    }
                  ]
                },
                {
                  "type": "line",
                  "from": {
                    "data": "budgets-actual"
                  },
                  "encode": {
                    "update": {
                      "x": {
                        "scale": "x",
                        "field": "forecastYear"
                      },
                      "y": {
                        "scale": "y",
                        "field": "value"
                      },
                      "stroke": {
                        "value": "steelblue"
                      },
                      "strokeWidth": {
                        "value": 3
                      }
                    }
                  }
                },
                {
                  "type": "line",
                  "from": {
                    "data": "tooltip-forecast"
                  },
                  "encode": {
                    "update": {
                      "x": {
                        "scale": "x",
                        "field": "forecastYear"
                      },
                      "y": {
                        "scale": "y",
                        "field": "value"
                      },
                      "stroke": {
                        "value": "black"
                      },
                      "strokeWidth": {
                        "value": 1
                      }
                    }
                  }
                },
                {
                  "type": "symbol",
                  "from": {
                    "data": "tooltip"
                  },
                  "encode": {
                    "update": {
                      "x": {
                        "scale": "x",
                        "field": "argmin.forecastYear"
                      },
                      "y": {
                        "scale": "y",
                        "field": "argmin.value"
                      },
                      "size": {
                        "value": 50
                      },
                      "fill": {
                        "value": "black"
                      }
                    }
                  }
                },
                {
                  "type": "rule",
                  "encode": {
                    "enter": {
                      "y": {
                        "scale": "y",
                        "value": 0
                      },
                      "stroke": {
                        "value": "#000"
                      },
                      "strokeWidth": {
                        "value": 1
                      }
                    },
                    "update": {
                      "x": {
                        "value": 0
                      },
                      "x2": {
                        "scale": "x",
                        "signal": "currentYear"
                      }
                    }
                  }
                },
                {
                  "name": "handle",
                  "type": "symbol",
                  "encode": {
                    "enter": {
                      "y": {
                        "scale": "y",
                        "value": 0,
                        "offset": 1
                      },
                      "shape": {
                        "value": "triangle-down"
                      },
                      "size": {
                        "value": 400
                      },
                      "stroke": {
                        "value": "#000"
                      },
                      "strokeWidth": {
                        "value": 0.5
                      }
                    },
                    "update": {
                      "x": {
                        "scale": "x",
                        "signal": "currentYear"
                      },
                      "fill": {
                        "signal": "dragging ? 'lemonchiffon' : '#fff'"
                      }
                    },
                    "hover": {
                      "fill": {
                        "value": "lemonchiffon"
                      },
                      "cursor": {
                        "value": "pointer"
                      }
                    }
                  }
                },
                {
                  "type": "text",
                  "encode": {
                    "enter": {
                      "x": {
                        "value": 0
                      },
                      "y": {
                        "value": 25
                      },
                      "fontSize": {
                        "value": 32
                      },
                      "fontWeight": {
                        "value": "bold"
                      },
                      "fill": {
                        "value": "steelblue"
                      }
                    },
                    "update": {
                      "text": {
                        "signal": "currentYear"
                      }
                    }
                  }
                },
                {
                  "type": "group",
                  "from": {
                    "data": "tooltip"
                  },
                  "interactive": false,
                  "encode": {
                    "update": {
                      "x": {
                        "scale": "x",
                        "field": "argmin.forecastYear",
                        "offset": -5
                      },
                      "y": {
                        "scale": "y",
                        "field": "argmin.value",
                        "offset": 20
                      },
                      "width": {
                        "value": 150
                      },
                      "height": {
                        "value": 35
                      },
                      "fill": {
                        "value": "#fff"
                      },
                      "fillOpacity": {
                        "value": 0.85
                      },
                      "stroke": {
                        "value": "#aaa"
                      },
                      "strokeWidth": {
                        "value": 0.5
                      }
                    }
                  },
                  "marks": [
                    {
                      "type": "text",
                      "interactive": false,
                      "encode": {
                        "update": {
                          "x": {
                            "value": 6
                          },
                          "y": {
                            "value": 14
                          },
                          "text": {
                            "signal": "'Forecast from early ' + parent.argmin.budgetYear"
                          },
                          "fill": {
                            "value": "black"
                          },
                          "fontWeight": {
                            "value": "bold"
                          }
                        }
                      }
                    },
                    {
                      "type": "text",
                      "interactive": false,
                      "encode": {
                        "update": {
                          "x": {
                            "value": 6
                          },
                          "y": {
                            "value": 29
                          },
                          "text": {
                            "signal": "parent.argmin.forecastYear + ': ' + format(parent.argmin.abs, '$.3f') + ' trillion ' + parent.argmin.type"
                          },
                          "fill": {
                            "value": "black"
                          },
                          "align": {
                            "value": "left"
                          }
                        }
                      }
                    }
                  ]
                }
              ]
            }
          },
          "metadata": {}
        }
      ],
      "execution_count": 12,
      "metadata": {
        "collapsed": false,
        "outputHidden": false,
        "inputHidden": false
      }
    }
  ],
  "metadata": {
    "kernel_info": {
      "name": "python3"
    },
    "language_info": {
      "name": "python",
      "version": "3.7.3",
      "mimetype": "text/x-python",
      "codemirror_mode": {
        "name": "ipython",
        "version": 3
      },
      "pygments_lexer": "ipython3",
      "nbconvert_exporter": "python",
      "file_extension": ".py"
    },
    "kernelspec": {
      "name": "python3",
      "language": "python",
      "display_name": "Python 3"
    },
    "nteract": {
      "version": "0.14.3"
    }
  },
  "nbformat": 4,
  "nbformat_minor": 0
}